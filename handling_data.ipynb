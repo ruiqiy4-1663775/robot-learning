{
 "cells": [
  {
   "cell_type": "code",
   "execution_count": 2,
   "metadata": {},
   "outputs": [],
   "source": [
    "import gym\n",
    "import random\n",
    "import import_ipynb\n",
    "import matplotlib.pyplot as plt\n",
    "from tqdm import tqdm\n",
    "import numpy as np\n",
    "import torch\n",
    "import torch.nn as nn\n",
    "import torch.optim as optim\n",
    "from torch.utils.data import TensorDataset, DataLoader\n",
    "import json\n",
    "import nltk\n",
    "from nltk.tokenize import word_tokenize\n",
    "from collections import Counter\n",
    "\n"
   ]
  },
  {
   "cell_type": "code",
   "execution_count": null,
   "metadata": {},
   "outputs": [],
   "source": [
    "def get_vocab(f_name):\n",
    "    info = dict()\n",
    "    with open(f_name,\"r\") as f:\n",
    "        d = json.load(f)\n",
    "        for i in d[\"dataset\"]:\n",
    "            e = i[\"key\"]\n",
    "            if e not in info.keys():\n",
    "                v = i[\"value\"]\n",
    "                n_v = set()\n",
    "                for value in v:\n",
    "                    n_v.add(tuple(value))\n",
    "                info[e] = n_v\n",
    "            else:\n",
    "                value = info[e]\n",
    "                v = i[\"value\"]\n",
    "                n_v = set()\n",
    "                for elements in v:\n",
    "                    n_v.add(tuple(elements))\n",
    "                n_v = value.union(n_v)\n",
    "                info[e] = n_v\n",
    "\n",
    "    return info"
   ]
  },
  {
   "cell_type": "code",
   "execution_count": null,
   "metadata": {},
   "outputs": [],
   "source": [
    "def commandAnalysis(step):\n",
    "    command = step.split(\" \")[0]\n",
    "    t = step.split(\" \")[-1]\n",
    "    target = \"\"\n",
    "    target += t[0].upper()\n",
    "    target += t[1:].lower()\n",
    "    if target == \"Onion\":\n",
    "        target = step.split(\" \")[-2]+\"Onions\"\n",
    "    elif target == \"Apple\" or target == \"Egg\" or target == \"Meat\" or target == \"Cheese\":\n",
    "        target = step.split(\" \")[-2]+target\n",
    "    elif target == \"Pepper\":\n",
    "        target = step.split(\" \")[-3]+\"Bell\"+target\n",
    "    elif target == \"Bowl\":\n",
    "        target = \"Mixing\"+target\n",
    "    elif target == \"(turkey)\":\n",
    "        target = \"WhiteMeat\"\n",
    "    elif target == \"(beef)\":\n",
    "        target = \"RedMeat\"\n",
    "    else:\n",
    "        target = target\n",
    "    \n",
    "    return command, target"
   ]
  },
  {
   "cell_type": "code",
   "execution_count": null,
   "metadata": {},
   "outputs": [],
   "source": [
    "data1 = get_vocab(\"699_recipe_data.json\")"
   ]
  }
 ],
 "metadata": {
  "kernelspec": {
   "display_name": "csci699",
   "language": "python",
   "name": "python3"
  },
  "language_info": {
   "codemirror_mode": {
    "name": "ipython",
    "version": 3
   },
   "file_extension": ".py",
   "mimetype": "text/x-python",
   "name": "python",
   "nbconvert_exporter": "python",
   "pygments_lexer": "ipython3",
   "version": "3.9.0"
  }
 },
 "nbformat": 4,
 "nbformat_minor": 2
}
