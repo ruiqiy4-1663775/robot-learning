{
 "cells": [
  {
   "cell_type": "code",
   "execution_count": 1,
   "metadata": {},
   "outputs": [
    {
     "ename": "ModuleNotFoundError",
     "evalue": "No module named 'import_ipynb'",
     "output_type": "error",
     "traceback": [
      "\u001b[0;31m---------------------------------------------------------------------------\u001b[0m",
      "\u001b[0;31mModuleNotFoundError\u001b[0m                       Traceback (most recent call last)",
      "\u001b[1;32m/Users/richyyu/Desktop/699Data/handling_data.ipynb Cell 1\u001b[0m line \u001b[0;36m3\n\u001b[1;32m      <a href='vscode-notebook-cell:/Users/richyyu/Desktop/699Data/handling_data.ipynb#W0sZmlsZQ%3D%3D?line=0'>1</a>\u001b[0m \u001b[39mimport\u001b[39;00m \u001b[39mgym\u001b[39;00m\n\u001b[1;32m      <a href='vscode-notebook-cell:/Users/richyyu/Desktop/699Data/handling_data.ipynb#W0sZmlsZQ%3D%3D?line=1'>2</a>\u001b[0m \u001b[39mimport\u001b[39;00m \u001b[39mrandom\u001b[39;00m\n\u001b[0;32m----> <a href='vscode-notebook-cell:/Users/richyyu/Desktop/699Data/handling_data.ipynb#W0sZmlsZQ%3D%3D?line=2'>3</a>\u001b[0m \u001b[39mimport\u001b[39;00m \u001b[39mimport_ipynb\u001b[39;00m\n\u001b[1;32m      <a href='vscode-notebook-cell:/Users/richyyu/Desktop/699Data/handling_data.ipynb#W0sZmlsZQ%3D%3D?line=3'>4</a>\u001b[0m \u001b[39mimport\u001b[39;00m \u001b[39mmatplotlib\u001b[39;00m\u001b[39m.\u001b[39;00m\u001b[39mpyplot\u001b[39;00m \u001b[39mas\u001b[39;00m \u001b[39mplt\u001b[39;00m\n\u001b[1;32m      <a href='vscode-notebook-cell:/Users/richyyu/Desktop/699Data/handling_data.ipynb#W0sZmlsZQ%3D%3D?line=4'>5</a>\u001b[0m \u001b[39mfrom\u001b[39;00m \u001b[39mtqdm\u001b[39;00m \u001b[39mimport\u001b[39;00m tqdm\n",
      "\u001b[0;31mModuleNotFoundError\u001b[0m: No module named 'import_ipynb'"
     ]
    }
   ],
   "source": [
    "import gym\n",
    "import random\n",
    "import import_ipynb\n",
    "import matplotlib.pyplot as plt\n",
    "from tqdm import tqdm\n",
    "import numpy as np\n",
    "import torch\n",
    "import torch.nn as nn\n",
    "import torch.optim as optim\n",
    "from torch.utils.data import TensorDataset, DataLoader\n",
    "import json\n",
    "import nltk\n",
    "from nltk.tokenize import word_tokenize\n",
    "from collections import Counter\n",
    "\n"
   ]
  },
  {
   "cell_type": "code",
   "execution_count": 2,
   "metadata": {},
   "outputs": [],
   "source": [
    "def get_vocab(f_name):\n",
    "    info = dict()\n",
    "    with open(f_name,\"r\") as f:\n",
    "        d = json.load(f)\n",
    "        for i in d[\"dataset\"]:\n",
    "            e = i[\"key\"]\n",
    "            if e not in info.keys():\n",
    "                v = i[\"value\"]\n",
    "                n_v = set()\n",
    "                for value in v:\n",
    "                    n_v.add(tuple(value))\n",
    "                info[e] = n_v\n",
    "            else:\n",
    "                value = info[e]\n",
    "                v = i[\"value\"]\n",
    "                n_v = set()\n",
    "                for elements in v:\n",
    "                    n_v.add(tuple(elements))\n",
    "                n_v = value.union(n_v)\n",
    "                info[e] = n_v\n",
    "\n",
    "    return info"
   ]
  },
  {
   "cell_type": "code",
   "execution_count": 3,
   "metadata": {},
   "outputs": [],
   "source": [
    "def commandAnalysis(step):\n",
    "    command = step.split(\" \")[0]\n",
    "    t = step.split(\" \")[-1]\n",
    "    target = \"\"\n",
    "    target += t[0].upper()\n",
    "    target += t[1:].lower()\n",
    "    if target == \"Onion\":\n",
    "        target = step.split(\" \")[-2]+\"Onions\"\n",
    "    elif target == \"Apple\" or target == \"Egg\" or target == \"Meat\" or target == \"Cheese\":\n",
    "        target = step.split(\" \")[-2]+target\n",
    "    elif target == \"Pepper\":\n",
    "        target = step.split(\" \")[-3]+\"Bell\"+target\n",
    "    elif target == \"Bowl\":\n",
    "        target = \"Mixing\"+target\n",
    "    elif target == \"(turkey)\":\n",
    "        target = \"WhiteMeat\"\n",
    "    elif target == \"(beef)\":\n",
    "        target = \"RedMeat\"\n",
    "    else:\n",
    "        target = target\n",
    "    \n",
    "    return command, target"
   ]
  },
  {
   "cell_type": "code",
   "execution_count": 4,
   "metadata": {},
   "outputs": [
    {
     "ename": "NameError",
     "evalue": "name 'json' is not defined",
     "output_type": "error",
     "traceback": [
      "\u001b[0;31m---------------------------------------------------------------------------\u001b[0m",
      "\u001b[0;31mNameError\u001b[0m                                 Traceback (most recent call last)",
      "\u001b[1;32m/Users/richyyu/Desktop/699Data/handling_data.ipynb Cell 4\u001b[0m line \u001b[0;36m1\n\u001b[0;32m----> <a href='vscode-notebook-cell:/Users/richyyu/Desktop/699Data/handling_data.ipynb#W3sZmlsZQ%3D%3D?line=0'>1</a>\u001b[0m data1 \u001b[39m=\u001b[39m get_vocab(\u001b[39m\"\u001b[39;49m\u001b[39m699_recipe_data.json\u001b[39;49m\u001b[39m\"\u001b[39;49m)\n",
      "\u001b[1;32m/Users/richyyu/Desktop/699Data/handling_data.ipynb Cell 4\u001b[0m line \u001b[0;36m4\n\u001b[1;32m      <a href='vscode-notebook-cell:/Users/richyyu/Desktop/699Data/handling_data.ipynb#W3sZmlsZQ%3D%3D?line=1'>2</a>\u001b[0m info \u001b[39m=\u001b[39m \u001b[39mdict\u001b[39m()\n\u001b[1;32m      <a href='vscode-notebook-cell:/Users/richyyu/Desktop/699Data/handling_data.ipynb#W3sZmlsZQ%3D%3D?line=2'>3</a>\u001b[0m \u001b[39mwith\u001b[39;00m \u001b[39mopen\u001b[39m(f_name,\u001b[39m\"\u001b[39m\u001b[39mr\u001b[39m\u001b[39m\"\u001b[39m) \u001b[39mas\u001b[39;00m f:\n\u001b[0;32m----> <a href='vscode-notebook-cell:/Users/richyyu/Desktop/699Data/handling_data.ipynb#W3sZmlsZQ%3D%3D?line=3'>4</a>\u001b[0m     d \u001b[39m=\u001b[39m json\u001b[39m.\u001b[39mload(f)\n\u001b[1;32m      <a href='vscode-notebook-cell:/Users/richyyu/Desktop/699Data/handling_data.ipynb#W3sZmlsZQ%3D%3D?line=4'>5</a>\u001b[0m     \u001b[39mfor\u001b[39;00m i \u001b[39min\u001b[39;00m d[\u001b[39m\"\u001b[39m\u001b[39mdataset\u001b[39m\u001b[39m\"\u001b[39m]:\n\u001b[1;32m      <a href='vscode-notebook-cell:/Users/richyyu/Desktop/699Data/handling_data.ipynb#W3sZmlsZQ%3D%3D?line=5'>6</a>\u001b[0m         e \u001b[39m=\u001b[39m i[\u001b[39m\"\u001b[39m\u001b[39mkey\u001b[39m\u001b[39m\"\u001b[39m]\n",
      "\u001b[0;31mNameError\u001b[0m: name 'json' is not defined"
     ]
    }
   ],
   "source": [
    "data1 = get_vocab(\"699_recipe_data.json\")"
   ]
  }
 ],
 "metadata": {
  "kernelspec": {
   "display_name": "csci699",
   "language": "python",
   "name": "python3"
  },
  "language_info": {
   "codemirror_mode": {
    "name": "ipython",
    "version": 3
   },
   "file_extension": ".py",
   "mimetype": "text/x-python",
   "name": "python",
   "nbconvert_exporter": "python",
   "pygments_lexer": "ipython3",
   "version": "3.9.18"
  }
 },
 "nbformat": 4,
 "nbformat_minor": 2
}
