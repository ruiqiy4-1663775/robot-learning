{
 "cells": [
  {
   "cell_type": "code",
   "execution_count": 32,
   "metadata": {},
   "outputs": [
    {
     "ename": "AttributeError",
     "evalue": "'GridWorldEnv' object has no attribute 'action_space'",
     "output_type": "error",
     "traceback": [
      "\u001b[0;31m---------------------------------------------------------------------------\u001b[0m",
      "\u001b[0;31mAttributeError\u001b[0m                            Traceback (most recent call last)",
      "\u001b[1;32m/home/ndwddwas/桌面/proj/robot-learning/q-learning-agent.ipynb Cell 1\u001b[0m line \u001b[0;36m<cell line: 7>\u001b[0;34m()\u001b[0m\n\u001b[1;32m      <a href='vscode-notebook-cell:/home/ndwddwas/%E6%A1%8C%E9%9D%A2/proj/robot-learning/q-learning-agent.ipynb#W6sZmlsZQ%3D%3D?line=4'>5</a>\u001b[0m \u001b[39mfrom\u001b[39;00m \u001b[39mconstants\u001b[39;00m \u001b[39mimport\u001b[39;00m ALL_DESTINATIONS\n\u001b[1;32m      <a href='vscode-notebook-cell:/home/ndwddwas/%E6%A1%8C%E9%9D%A2/proj/robot-learning/q-learning-agent.ipynb#W6sZmlsZQ%3D%3D?line=5'>6</a>\u001b[0m env \u001b[39m=\u001b[39m proj_env\u001b[39m.\u001b[39menv\n\u001b[0;32m----> <a href='vscode-notebook-cell:/home/ndwddwas/%E6%A1%8C%E9%9D%A2/proj/robot-learning/q-learning-agent.ipynb#W6sZmlsZQ%3D%3D?line=6'>7</a>\u001b[0m \u001b[39mprint\u001b[39m(env\u001b[39m.\u001b[39;49maction_space)\n",
      "\u001b[0;31mAttributeError\u001b[0m: 'GridWorldEnv' object has no attribute 'action_space'"
     ]
    }
   ],
   "source": [
    "import import_ipynb\n",
    "import proj_env\n",
    "import numpy as np\n",
    "import random\n",
    "from constants import ALL_DESTINATIONS\n",
    "env = proj_env.env\n"
   ]
  },
  {
   "cell_type": "code",
   "execution_count": 21,
   "metadata": {},
   "outputs": [],
   "source": [
    "# This agent is only for 'go to' command. It outputs the best action from 0 to 3.\n",
    "class QLearningAgent:\n",
    "    def __init__(self, env, learning_rate=0.1, discount_factor=0.99, exploration_rate=1.0):\n",
    "        self.env = env\n",
    "        self.learning_rate = learning_rate\n",
    "        self.discount_factor = discount_factor\n",
    "        self.exploration_rate = exploration_rate\n",
    "        self.max_exploration_rate = exploration_rate\n",
    "        self.min_exploration_rate = 0.01\n",
    "        self.exploration_decay_rate = 0.001\n",
    "        # Initialize Q-table\n",
    "        self.q_table = np.zeros((env.observation_space.n, 4, ALL_DESTINATIONS.__len__))\n",
    "    # This function takes a destination and current state, and return an lower level action\n",
    "    def choose_action(self, state, destination):\n",
    "        if random.uniform(0, 1) < self.exploration_rate:\n",
    "            #return self.env.action_space.sample()  # Explore\n",
    "            return self.env.action.sample()\n",
    "        else:\n",
    "            return np.argmax(self.q_table[state, :, destination])  # Exploit learned values\n",
    "\n",
    "    def learn(self, state, action, reward, next_state, destination):\n",
    "        predict = self.q_table[state, action, destination]\n",
    "        target = reward + self.discount_factor * np.max(self.q_table[next_state, :, destination])\n",
    "        self.q_table[state, action, destination] += self.learning_rate * (target - predict)\n",
    "\n",
    "    def decay_exploration_rate(self, episode, total_episodes):\n",
    "        self.exploration_rate = self.min_exploration_rate + \\\n",
    "                                (self.max_exploration_rate - self.min_exploration_rate) * np.exp(-self.exploration_decay_rate * episode)\n",
    "\n"
   ]
  },
  {
   "cell_type": "code",
   "execution_count": null,
   "metadata": {},
   "outputs": [],
   "source": [
    "# There is no need to train the agent. Simply call the go_to function.\n",
    "def train_agent(env):\n",
    "    agent = QLearningAgent(env)\n",
    "    for episode in range(1000):\n",
    "        done = False\n",
    "        destination = ...  # Define or obtain the current destination\n",
    "\n",
    "        while not done:\n",
    "            action = agent.choose_action(state, destination)\n",
    "            next_state, reward, done, info = env.step(action)\n",
    "            agent.learn(state, action, reward, next_state, destination)\n",
    "            state = next_state\n",
    "\n",
    "        agent.decay_exploration_rate(episode, 1000)\n",
    "\n",
    "# After training, the agent's Q-table will be updated"
   ]
  },
  {
   "cell_type": "code",
   "execution_count": null,
   "metadata": {},
   "outputs": [],
   "source": [
    "def compute_dest_index(dest):\n",
    "    index = ALL_DESTINATIONS.index(dest)\n",
    "    return index\n",
    "\n",
    "def compute_state_index(env, observation):\n",
    "    size = env.size\n",
    "    pos_agent=observation[\"Agent\"]\n",
    "    agent_x=pos_agent[0]\n",
    "    agent_y=pos_agent[1]\n",
    "    state_index = agent_x * size + agent_y\n",
    "    return state_index"
   ]
  },
  {
   "cell_type": "code",
   "execution_count": null,
   "metadata": {},
   "outputs": [],
   "source": [
    "# For go to command, this function returns a list of actions that agent performs to get to the target\n",
    "def go_to(env, target):\n",
    "    dest_index = compute_dest_index(target)\n",
    "    action_taken=[]\n",
    "    agent = QLearningAgent(env)\n",
    "    observation=env._get_obs()\n",
    "    while(not env._verify_go_to(target)):\n",
    "        state_index = compute_state_index(env, observation)\n",
    "        action = agent.choose_action(state_index, dest_index)\n",
    "        action_taken.append(action)\n",
    "        observation, reward, done, info = env.step(action)\n",
    "        next_state_index = compute_state_index(env, observation)\n",
    "        agent.learn(state_index, action, reward, next_state_index, dest_index)\n",
    "    print(action_taken)\n",
    "    return action_taken"
   ]
  },
  {
   "cell_type": "code",
   "execution_count": 34,
   "metadata": {},
   "outputs": [
    {
     "name": "stdout",
     "output_type": "stream",
     "text": [
      "54\n"
     ]
    }
   ],
   "source": [
    "obs_num = num_states = sum(space.shape[0] for space in env.observation_space.spaces.values())\n",
    "num_actions = env.action.n\n",
    "print(env.action.sample())"
   ]
  }
 ],
 "metadata": {
  "kernelspec": {
   "display_name": "richy",
   "language": "python",
   "name": "python3"
  },
  "language_info": {
   "codemirror_mode": {
    "name": "ipython",
    "version": 3
   },
   "file_extension": ".py",
   "mimetype": "text/x-python",
   "name": "python",
   "nbconvert_exporter": "python",
   "pygments_lexer": "ipython3",
   "version": "3.10.4"
  }
 },
 "nbformat": 4,
 "nbformat_minor": 2
}
