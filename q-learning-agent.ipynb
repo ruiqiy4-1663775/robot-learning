{
 "cells": [
  {
   "cell_type": "code",
   "execution_count": 2,
   "metadata": {},
   "outputs": [],
   "source": [
    "import numpy as np\n",
    "import random\n",
    "from constants import ALL_DESTINATIONS\n",
    "# This agent is only for 'go to' command. It outputs the best action from 0 to 3.\n",
    "class QLearningAgent:\n",
    "    def __init__(self, env, learning_rate=0.1, discount_factor=0.99, exploration_rate=1.0):\n",
    "        self.env = env\n",
    "        self.learning_rate = learning_rate\n",
    "        self.discount_factor = discount_factor\n",
    "        self.exploration_rate = exploration_rate\n",
    "        self.max_exploration_rate = exploration_rate\n",
    "        self.min_exploration_rate = 0.01\n",
    "        self.exploration_decay_rate = 0.001\n",
    "        # Initialize Q-table\n",
    "        self.q_table = np.zeros((env.observation_space.n, 4, ALL_DESTINATIONS.__len__))\n",
    "    # This function takes a destination and current state, and return an lower level action\n",
    "    def choose_action(self, state, destination):\n",
    "        if random.uniform(0, 1) < self.exploration_rate:\n",
    "            return self.env.action_space.sample()  # Explore\n",
    "        else:\n",
    "            return np.argmax(self.q_table[state, :, destination])  # Exploit learned values\n",
    "\n",
    "    def learn(self, state, action, reward, next_state, destination):\n",
    "        predict = self.q_table[state, action, destination]\n",
    "        target = reward + self.discount_factor * np.max(self.q_table[next_state, :, destination])\n",
    "        self.q_table[state, action, destination] += self.learning_rate * (target - predict)\n",
    "\n",
    "    def decay_exploration_rate(self, episode, total_episodes):\n",
    "        self.exploration_rate = self.min_exploration_rate + \\\n",
    "                                (self.max_exploration_rate - self.min_exploration_rate) * np.exp(-self.exploration_decay_rate * episode)\n",
    "\n"
   ]
  },
  {
   "cell_type": "code",
   "execution_count": null,
   "metadata": {},
   "outputs": [],
   "source": [
    "# There is no need to train the agent. Simply call the go_to function.\n",
    "def train_agent(env):\n",
    "    agent = QLearningAgent(env)\n",
    "    for episode in range(1000):\n",
    "        done = False\n",
    "        destination = ...  # Define or obtain the current destination\n",
    "\n",
    "        while not done:\n",
    "            action = agent.choose_action(state, destination)\n",
    "            next_state, reward, done, info = env.step(action)\n",
    "            agent.learn(state, action, reward, next_state, destination)\n",
    "            state = next_state\n",
    "\n",
    "        agent.decay_exploration_rate(episode, 1000)\n",
    "\n",
    "# After training, the agent's Q-table will be updated"
   ]
  },
  {
   "cell_type": "code",
   "execution_count": null,
   "metadata": {},
   "outputs": [],
   "source": [
    "def compute_dest_index(dest):\n",
    "    index = ALL_DESTINATIONS.index(dest)\n",
    "    return index\n",
    "\n",
    "def compute_state_index(env, observation):\n",
    "    size = env.size\n",
    "    pos_agent=observation[\"Agent\"]\n",
    "    agent_x=pos_agent[0]\n",
    "    agent_y=pos_agent[1]\n",
    "    state_index = agent_x * size + agent_y\n",
    "    return state_index"
   ]
  },
  {
   "cell_type": "code",
   "execution_count": null,
   "metadata": {},
   "outputs": [],
   "source": [
    "# For go to command, this function returns a list of actions that agent performs to get to the target\n",
    "def go_to(env, target):\n",
    "    dest_index = compute_dest_index(target)\n",
    "    action_taken=[]\n",
    "    agent = QLearningAgent(env)\n",
    "    observation=env._get_obs()\n",
    "    while(not env._verify_go_to(target)):\n",
    "        state_index = compute_state_index(env, observation)\n",
    "        action = agent.choose_action(state_index, dest_index)\n",
    "        action_taken.append(action)\n",
    "        observation, reward, done, info = env.step(action)\n",
    "        next_state_index = compute_state_index(env, observation)\n",
    "        agent.learn(state_index, action, reward, next_state_index, dest_index)\n",
    "    print(action_taken)\n",
    "    return action_taken"
   ]
  }
 ],
 "metadata": {
  "kernelspec": {
   "display_name": "richy",
   "language": "python",
   "name": "python3"
  },
  "language_info": {
   "codemirror_mode": {
    "name": "ipython",
    "version": 3
   },
   "file_extension": ".py",
   "mimetype": "text/x-python",
   "name": "python",
   "nbconvert_exporter": "python",
   "pygments_lexer": "ipython3",
   "version": "3.9.18"
  }
 },
 "nbformat": 4,
 "nbformat_minor": 2
}
